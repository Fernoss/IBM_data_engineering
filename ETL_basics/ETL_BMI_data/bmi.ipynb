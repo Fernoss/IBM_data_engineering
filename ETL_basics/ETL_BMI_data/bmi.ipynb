{
 "cells": [
  {
   "cell_type": "code",
   "execution_count": 1,
   "metadata": {},
   "outputs": [],
   "source": [
    "import glob\n",
    "import pandas as pd\n",
    "import xml.etree.ElementTree as ET\n",
    "from datetime import datetime"
   ]
  },
  {
   "cell_type": "code",
   "execution_count": 2,
   "metadata": {},
   "outputs": [],
   "source": [
    "log_file = \"log_file.txt\"\n",
    "target_file = \"transformed_data.csv\""
   ]
  },
  {
   "cell_type": "code",
   "execution_count": 3,
   "metadata": {},
   "outputs": [],
   "source": [
    "# extracting csv file\n",
    "def extract_from_csv(file_to_process):\n",
    "    dataframe = pd.read_csv(file_to_process)\n",
    "    return dataframe\n",
    "\n",
    "# extracting JSON file\n",
    "def extract_from_json(file_to_process):\n",
    "    dataframe = pd.read_json(file_to_process, lines=True)\n",
    "    return dataframe\n",
    "\n",
    "# extracting from XML file\n",
    "# parse the data using ElementTree\n",
    "def extract_from_xml(file_to_process):\n",
    "    dataframe = pd.DataFrame(columns=[\"name\", \"height\", \"weight\"])\n",
    "    tree = ET.parse(file_to_process)\n",
    "    root = tree.getroot()\n",
    "    for person in root:\n",
    "        name = person.find(\"name\").text\n",
    "        height = float(person.find(\"height\").text)\n",
    "        weight = float(person.find(\"weight\").text)\n",
    "        dataframe = pd.concat([dataframe, pd.DataFrame([{\"name\": name, \"height\": height, \"weight\": weight}])],\n",
    "                              ignore_index=True)\n",
    "    return dataframe"
   ]
  },
  {
   "cell_type": "code",
   "execution_count": 4,
   "metadata": {},
   "outputs": [],
   "source": [
    "# function that uses glob library to identify the filetype\n",
    "def extract():\n",
    "    extracted_data = pd.DataFrame(columns=['name', 'height', 'weight'])\n",
    "    # create an empty data frame to hold extracted data\n",
    "\n",
    "    # process all csv files\n",
    "    for csvfile in glob.glob(\"*.csv\"):\n",
    "        extracted_data = pd.concat([extracted_data, pd.DataFrame(extract_from_csv(csvfile))], ignore_index=True)\n",
    "\n",
    "    # process all json files\n",
    "    for jsonfile in glob.glob(\"*.json\"):\n",
    "        extracted_data = pd.concat([extracted_data, pd.DataFrame(extract_from_json(jsonfile))], ignore_index=True)\n",
    "\n",
    "    # process all xml files\n",
    "    for xmlfile in glob.glob(\"*.xml\"):\n",
    "        extracted_data = pd.concat([extracted_data, pd.DataFrame(extract_from_xml(xmlfile))], ignore_index=True)\n",
    "\n",
    "    return extracted_data"
   ]
  },
  {
   "cell_type": "code",
   "execution_count": 5,
   "metadata": {},
   "outputs": [],
   "source": [
    "# unit conversion from inches and pounds to meters and kilograms\n",
    "# create transform function using dataframe dictionary\n",
    "def transform(data):\n",
    "    # Convert inches to meters and round off to two decimals\n",
    "    # 1 inch is 0.0254 meters\n",
    "    data['height'] = round(data.height * 0.0254, 2)\n",
    "\n",
    "    # Convert pounds to kilograms and round off to two decimals\n",
    "    # 1 pound is 0.45359237 kilograms\n",
    "    data['weight'] = round(data.weight * 0.45359237, 2)\n",
    "\n",
    "    return data"
   ]
  },
  {
   "cell_type": "code",
   "execution_count": 6,
   "metadata": {},
   "outputs": [],
   "source": [
    "# loading the data\n",
    "def load_data(target_file, transformed_data):\n",
    "    transformed_data.to_csv(target_file)\n",
    "\n",
    "# logging operation to record the progress with timestamp\n",
    "def log_progress(message):\n",
    "    timestamp_format = '%Y-%h-%d-%H:%M:%S'  # Year-Monthname-Day-Hour-Minute-Second\n",
    "    now = datetime.now()  # get current timestamp\n",
    "    timestamp = now.strftime(timestamp_format)\n",
    "    with open(log_file, \"a\") as f:\n",
    "        f.write(timestamp + ',' + message + '\\n')\n"
   ]
  },
  {
   "cell_type": "code",
   "execution_count": 8,
   "metadata": {},
   "outputs": [
    {
     "name": "stdout",
     "output_type": "stream",
     "text": [
      "Transformed Data\n",
      "      name  height  weight  Unnamed: 0.2  Unnamed: 0.1  Unnamed: 0\n",
      "0     alex    0.00    4.79           0.0           0.0         0.0\n",
      "1     ajay    0.00    5.78           1.0           1.0         1.0\n",
      "2    alice    0.00    6.48           2.0           2.0         2.0\n",
      "3     ravi    0.00    6.02           3.0           3.0         3.0\n",
      "4      joe    0.00    6.11           4.0           4.0         4.0\n",
      "..     ...     ...     ...           ...           ...         ...\n",
      "151   ivan    1.72   51.77           NaN           NaN         NaN\n",
      "152  simon    1.72   50.97           NaN           NaN         NaN\n",
      "153  jacob    1.70   54.73           NaN           NaN         NaN\n",
      "154  cindy    1.69   57.81           NaN           NaN         NaN\n",
      "155   ivan    1.72   51.77           NaN           NaN         NaN\n",
      "\n",
      "[156 rows x 6 columns]\n"
     ]
    },
    {
     "name": "stderr",
     "output_type": "stream",
     "text": [
      "/var/folders/z5/1hc6k90j7tbgz6zsqcwn43zh0000gn/T/ipykernel_1838/3617086787.py:8: FutureWarning: The behavior of DataFrame concatenation with empty or all-NA entries is deprecated. In a future version, this will no longer exclude empty or all-NA columns when determining the result dtypes. To retain the old behavior, exclude the relevant entries before the concat operation.\n",
      "  extracted_data = pd.concat([extracted_data, pd.DataFrame(extract_from_csv(csvfile))], ignore_index=True)\n",
      "/var/folders/z5/1hc6k90j7tbgz6zsqcwn43zh0000gn/T/ipykernel_1838/1774941121.py:21: FutureWarning: The behavior of DataFrame concatenation with empty or all-NA entries is deprecated. In a future version, this will no longer exclude empty or all-NA columns when determining the result dtypes. To retain the old behavior, exclude the relevant entries before the concat operation.\n",
      "  dataframe = pd.concat([dataframe, pd.DataFrame([{\"name\": name, \"height\": height, \"weight\": weight}])],\n",
      "/var/folders/z5/1hc6k90j7tbgz6zsqcwn43zh0000gn/T/ipykernel_1838/1774941121.py:21: FutureWarning: The behavior of DataFrame concatenation with empty or all-NA entries is deprecated. In a future version, this will no longer exclude empty or all-NA columns when determining the result dtypes. To retain the old behavior, exclude the relevant entries before the concat operation.\n",
      "  dataframe = pd.concat([dataframe, pd.DataFrame([{\"name\": name, \"height\": height, \"weight\": weight}])],\n",
      "/var/folders/z5/1hc6k90j7tbgz6zsqcwn43zh0000gn/T/ipykernel_1838/1774941121.py:21: FutureWarning: The behavior of DataFrame concatenation with empty or all-NA entries is deprecated. In a future version, this will no longer exclude empty or all-NA columns when determining the result dtypes. To retain the old behavior, exclude the relevant entries before the concat operation.\n",
      "  dataframe = pd.concat([dataframe, pd.DataFrame([{\"name\": name, \"height\": height, \"weight\": weight}])],\n"
     ]
    }
   ],
   "source": [
    "# Log the initialization of the ETL process \n",
    "log_progress(\"ETL Job Started\")\n",
    "\n",
    "# Log the beginning of the Extraction process\n",
    "log_progress(\"Extract phase Started\")\n",
    "extracted_data = extract()\n",
    "\n",
    "# Log the completion of the Extraction process\n",
    "log_progress(\"Extract phase Ended\")\n",
    "\n",
    "# Log the beginning of the Transformation process\n",
    "log_progress(\"Transform phase Started\")\n",
    "transformed_data = transform(extracted_data)\n",
    "print(\"Transformed Data\")\n",
    "print(transformed_data)\n",
    "\n",
    "# Log the completion of the Transformation process\n",
    "log_progress(\"Transform phase Ended\")\n",
    "\n",
    "# Log the beginning of the Loading process\n",
    "log_progress(\"Load phase Started\")\n",
    "load_data(target_file, transformed_data)\n",
    "\n",
    "# Log the completion of the Loading process\n",
    "log_progress(\"Load phase Ended\")\n",
    "\n",
    "# Log the completion of the ETL process\n",
    "log_progress(\"ETL Job Ended\")"
   ]
  }
 ],
 "metadata": {
  "kernelspec": {
   "display_name": "Python 3",
   "language": "python",
   "name": "python3"
  },
  "language_info": {
   "codemirror_mode": {
    "name": "ipython",
    "version": 3
   },
   "file_extension": ".py",
   "mimetype": "text/x-python",
   "name": "python",
   "nbconvert_exporter": "python",
   "pygments_lexer": "ipython3",
   "version": "3.11.5"
  }
 },
 "nbformat": 4,
 "nbformat_minor": 2
}
